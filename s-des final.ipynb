{
 "cells": [
  {
   "cell_type": "code",
   "execution_count": 74,
   "id": "c880b35b",
   "metadata": {},
   "outputs": [],
   "source": [
    "p10 = [2,4,7,9,1,5,3,10,8,6]\n",
    "p8  = [2,7,5,10,8,3,6,1]\n",
    "#ep =  [4,1,2,3,2,3,4,1]\n",
    "ep =  [4,2,1,3,2,3,4,1]\n",
    "p4 = [2,1,4,3]\n",
    "S0 = [3,1,0,2,1,3,2,1,0,3,1,2,2,3,0,1]\n",
    "S1 = [2,1,3,0,0,1,2,3,2,3,1,0,2,1,0,3]\n",
    "ip = [7,2,1,4,6,3,5,8]\n",
    "inv_ip = [3,2,6,4,7,5,1,8]\n"
   ]
  },
  {
   "cell_type": "code",
   "execution_count": 75,
   "id": "eafeef67",
   "metadata": {},
   "outputs": [
    {
     "name": "stdout",
     "output_type": "stream",
     "text": [
      "Enter a 10bit key1011011001\n",
      "Key entered is - 1011011001\n"
     ]
    }
   ],
   "source": [
    "key = input(\"Enter a 10bit key\")\n",
    "print(\"Key entered is - {}\".format(key))"
   ]
  },
  {
   "cell_type": "code",
   "execution_count": 76,
   "id": "3b5722c2",
   "metadata": {},
   "outputs": [],
   "source": [
    "def permute(seq,key):\n",
    "    after_p = ''\n",
    "    for x in seq:\n",
    "        after_p+=key[x-1]\n",
    "        \n",
    "    return after_p"
   ]
  },
  {
   "cell_type": "code",
   "execution_count": 77,
   "id": "d31679ae",
   "metadata": {},
   "outputs": [],
   "source": [
    "def get_s(l,data):\n",
    "    row = int(data[0]+data[3],2)\n",
    "    col = int(data[1]+data[2],2)\n",
    "    \n",
    "    pos = ((row-1)*4)+col\n",
    "    \n",
    "    return l[pos]"
   ]
  },
  {
   "cell_type": "code",
   "execution_count": 78,
   "id": "3ddbdc6c",
   "metadata": {},
   "outputs": [],
   "source": [
    "def left_shift(k):\n",
    "    a = k[0]\n",
    "    new_k =''\n",
    "    for i in range(1,len(k)):\n",
    "        new_k+=k[i]\n",
    "    new_k+= a\n",
    "    return new_k\n"
   ]
  },
  {
   "cell_type": "code",
   "execution_count": 79,
   "id": "49e4c29e",
   "metadata": {},
   "outputs": [
    {
     "name": "stdout",
     "output_type": "stream",
     "text": [
      "0110101101\n"
     ]
    }
   ],
   "source": [
    "after_p10 = permute(p10,key)\n",
    "print(after_p10)"
   ]
  },
  {
   "cell_type": "code",
   "execution_count": 80,
   "id": "4fefe7f0",
   "metadata": {},
   "outputs": [
    {
     "name": "stdout",
     "output_type": "stream",
     "text": [
      "Key is - 11000011\n"
     ]
    }
   ],
   "source": [
    "l = after_p10[:5]\n",
    "r = after_p10[5:]\n",
    "\n",
    "l_left = left_shift(l)\n",
    "r_left = left_shift(r)\n",
    "\n",
    "key1 = permute(p8,l_left+r_left)\n",
    "\n",
    "print(\"Key is - {}\".format(key1))"
   ]
  },
  {
   "cell_type": "code",
   "execution_count": 81,
   "id": "0cce1064",
   "metadata": {},
   "outputs": [
    {
     "name": "stdout",
     "output_type": "stream",
     "text": [
      "Key 2 is - 00111111\n"
     ]
    }
   ],
   "source": [
    "l_left2 = left_shift(l_left)\n",
    "r_left2 = left_shift(r_left)\n",
    "\n",
    "key2 = permute(p8,l_left2+r_left2)\n",
    "\n",
    "print(\"Key 2 is - {}\".format(key2))"
   ]
  },
  {
   "cell_type": "code",
   "execution_count": 82,
   "id": "94fc4616",
   "metadata": {},
   "outputs": [
    {
     "name": "stdout",
     "output_type": "stream",
     "text": [
      "Enter 8 bit plaintext10010011\n",
      "Plaintext entered is - 10010011\n"
     ]
    }
   ],
   "source": [
    "ptext = input(\"Enter 8 bit plaintext\")\n",
    "print(\"Plaintext entered is - {}\".format(ptext))"
   ]
  },
  {
   "cell_type": "code",
   "execution_count": 83,
   "id": "0ee6397a",
   "metadata": {},
   "outputs": [],
   "source": [
    "# encryption\n",
    "\n",
    "def complex_function(after_ip,key):\n",
    "    l = after_ip[:4]\n",
    "    r = after_ip[4:]\n",
    "    \n",
    "    after_ep = permute(ep,r)\n",
    "    \n",
    "    key1_xor_afterep = int(after_ep,2) ^ int(key,2)\n",
    "    \n",
    "    after_xor = bin(key1_xor_afterep)[2:]\n",
    "    for i in range(0,8-len(after_xor)):\n",
    "        after_xor = '0'+after_xor\n",
    "        \n",
    "    l_afterxor = after_xor[:4]\n",
    "    r_afterxor = after_xor[4:]\n",
    "    \n",
    "    s0 = get_s(S0,l_afterxor)\n",
    "    s1 = get_s(S1,r_afterxor)\n",
    "    \n",
    "    l_afters = bin(s0)[2:]\n",
    "    for x in range(0,2-(len(l_afters))):\n",
    "        l_afters = '0'+l_afters\n",
    "        \n",
    "    r_afters = bin(s1)[2:]\n",
    "    for x in range(0,2-(len(r_afters))):\n",
    "        r_afters = '0'+r_afters\n",
    "        \n",
    "    after_p4 = permute(p4,l_afters+r_afters)\n",
    "    \n",
    "    after_l_xor = int(l,2) ^ int(after_p4,2)\n",
    "    \n",
    "    final = bin(after_l_xor)[2:]\n",
    "    for x in range(0,4-(len(final))):\n",
    "        final = '0'+final\n",
    "    \n",
    "    \n",
    "    return final,r\n",
    "    \n",
    "    "
   ]
  },
  {
   "cell_type": "code",
   "execution_count": 84,
   "id": "3836e698",
   "metadata": {},
   "outputs": [],
   "source": [
    "def swap(data):\n",
    "    l = data[:4]\n",
    "    r = data[4:]\n",
    "    return r+l"
   ]
  },
  {
   "cell_type": "code",
   "execution_count": 85,
   "id": "b7023b92",
   "metadata": {},
   "outputs": [],
   "source": [
    "after_ip = permute(ip,ptext)\n",
    "\n",
    "after_fk,r = complex_function(after_ip,key1)\n",
    "\n",
    "after_swap = swap(after_fk+r)\n",
    "\n",
    "after_r2,after_r2_r = complex_function(after_swap,key2)"
   ]
  },
  {
   "cell_type": "code",
   "execution_count": 86,
   "id": "db4875ea",
   "metadata": {},
   "outputs": [
    {
     "name": "stdout",
     "output_type": "stream",
     "text": [
      "0111\n"
     ]
    }
   ],
   "source": [
    "print(after_r2)"
   ]
  },
  {
   "cell_type": "code",
   "execution_count": 87,
   "id": "9cae770c",
   "metadata": {},
   "outputs": [
    {
     "name": "stdout",
     "output_type": "stream",
     "text": [
      "Ciphertext is - 11011100\n"
     ]
    }
   ],
   "source": [
    "ciphertext = permute(inv_ip,after_r2+after_r2_r)\n",
    "\n",
    "print(\"Ciphertext is - {}\".format(ciphertext))"
   ]
  },
  {
   "cell_type": "code",
   "execution_count": 88,
   "id": "d273f039",
   "metadata": {},
   "outputs": [
    {
     "name": "stdout",
     "output_type": "stream",
     "text": [
      "Plaintext is - 10010011\n"
     ]
    }
   ],
   "source": [
    "# decryption\n",
    "\n",
    "after_dec_ip = permute(ip,ciphertext)\n",
    "\n",
    "after_dec_round1,dec_r = complex_function(after_dec_ip,key2)\n",
    "\n",
    "after_dec_swap = swap(after_dec_round1+dec_r)\n",
    "\n",
    "after_dec_round2,dec_round2_r = complex_function(after_dec_swap,key1)\n",
    "\n",
    "plaintext = permute(inv_ip,after_dec_round2+dec_round2_r)\n",
    "\n",
    "print(\"Plaintext is - {}\".format(plaintext))"
   ]
  },
  {
   "cell_type": "code",
   "execution_count": null,
   "id": "62e325f8",
   "metadata": {},
   "outputs": [],
   "source": []
  }
 ],
 "metadata": {
  "kernelspec": {
   "display_name": "Python [conda env:root] *",
   "language": "python",
   "name": "conda-root-py"
  },
  "language_info": {
   "codemirror_mode": {
    "name": "ipython",
    "version": 3
   },
   "file_extension": ".py",
   "mimetype": "text/x-python",
   "name": "python",
   "nbconvert_exporter": "python",
   "pygments_lexer": "ipython3",
   "version": "3.8.12"
  }
 },
 "nbformat": 4,
 "nbformat_minor": 5
}
