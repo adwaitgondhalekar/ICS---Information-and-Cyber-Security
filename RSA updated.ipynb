{
 "cells": [
  {
   "cell_type": "code",
   "execution_count": 10,
   "id": "b0bd4f47",
   "metadata": {},
   "outputs": [],
   "source": [
    "import math"
   ]
  },
  {
   "cell_type": "code",
   "execution_count": 11,
   "id": "b3238789",
   "metadata": {},
   "outputs": [],
   "source": [
    "def check_prime(num):\n",
    "    flag=False\n",
    "    for i in range(2,(num//2)+1):\n",
    "        if num%i==0:\n",
    "            flag=True\n",
    "            break\n",
    "    return flag"
   ]
  },
  {
   "cell_type": "code",
   "execution_count": 12,
   "id": "5fc77129",
   "metadata": {},
   "outputs": [
    {
     "name": "stdout",
     "output_type": "stream",
     "text": [
      "Enter prime number P23\n",
      "Enter prime number q17\n"
     ]
    }
   ],
   "source": [
    "while(1):\n",
    "    p = int(input(\"Enter prime number P\"))\n",
    "    if(check_prime(p)==True):\n",
    "        print(\"Re-enter number\")\n",
    "    else:\n",
    "        break\n",
    "while(1):\n",
    "    q= int(input(\"Enter prime number q\"))\n",
    "    if(check_prime(q)==True):\n",
    "        print(\"Re-enter number\")\n",
    "    else:\n",
    "        break\n"
   ]
  },
  {
   "cell_type": "code",
   "execution_count": 13,
   "id": "ed5dd2bd",
   "metadata": {},
   "outputs": [],
   "source": [
    "def get_e(phi):\n",
    "    E = 0\n",
    "    for e in range(2,phi):\n",
    "        if math.gcd(e,phi)==1:\n",
    "            E=e\n",
    "            break\n",
    "            \n",
    "        else:\n",
    "            e+=1\n",
    "    return E"
   ]
  },
  {
   "cell_type": "code",
   "execution_count": 14,
   "id": "fba36d6d",
   "metadata": {},
   "outputs": [],
   "source": [
    "def get_d(e,phi):\n",
    "    product = 0\n",
    "    for k in range(2,50):\n",
    "        product = ((k*phi)+1)\n",
    "        if(product%e==0):\n",
    "            break\n",
    "    return product//e"
   ]
  },
  {
   "cell_type": "code",
   "execution_count": 15,
   "id": "3751be9e",
   "metadata": {},
   "outputs": [
    {
     "name": "stdout",
     "output_type": "stream",
     "text": [
      "3\n",
      "235\n",
      "Enter message to b encrypted89\n",
      "Ciphertext is - 387\n",
      "Plaintext is -89\n"
     ]
    }
   ],
   "source": [
    "n = p*q\n",
    "\n",
    "phi_n = (p-1)*(q-1)\n",
    "\n",
    "E = get_e(phi_n)\n",
    "print(E)\n",
    "\n",
    "D = get_d(E,phi_n)\n",
    "print(D)\n",
    "\n",
    "m = int(input(\"Enter message to b encrypted\"))\n",
    "\n",
    "c = pow(m,E,n)\n",
    "print(\"Ciphertext is - {}\".format(c))\n",
    "\n",
    "plaintext = pow(c,D,n)\n",
    "\n",
    "print(\"Plaintext is -{}\".format(plaintext))\n"
   ]
  },
  {
   "cell_type": "code",
   "execution_count": null,
   "id": "63dd02fa",
   "metadata": {},
   "outputs": [],
   "source": []
  }
 ],
 "metadata": {
  "kernelspec": {
   "display_name": "Python [conda env:root] *",
   "language": "python",
   "name": "conda-root-py"
  },
  "language_info": {
   "codemirror_mode": {
    "name": "ipython",
    "version": 3
   },
   "file_extension": ".py",
   "mimetype": "text/x-python",
   "name": "python",
   "nbconvert_exporter": "python",
   "pygments_lexer": "ipython3",
   "version": "3.8.12"
  }
 },
 "nbformat": 4,
 "nbformat_minor": 5
}
