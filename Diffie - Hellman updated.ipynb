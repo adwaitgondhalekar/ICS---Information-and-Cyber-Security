{
 "cells": [
  {
   "cell_type": "code",
   "execution_count": 16,
   "id": "0617f136",
   "metadata": {},
   "outputs": [],
   "source": [
    "import math"
   ]
  },
  {
   "cell_type": "code",
   "execution_count": 17,
   "id": "313b5a2d",
   "metadata": {},
   "outputs": [],
   "source": [
    "def check_prime(num):\n",
    "    flag = False\n",
    "    for i in range(2,(num//2)+1):\n",
    "        if num%i==0:\n",
    "            flag=True\n",
    "            break\n",
    "    return flag"
   ]
  },
  {
   "cell_type": "code",
   "execution_count": 18,
   "id": "04701868",
   "metadata": {},
   "outputs": [],
   "source": [
    "def primitive_root(num):\n",
    "    \n",
    "    p_root=0\n",
    "    for i in range(1,num):\n",
    "        values=[]\n",
    "        for j in range(0,num-1):\n",
    "            values.append((i**j)%num)\n",
    "        #print(values)\n",
    "        if len(values) == len(set(values)):\n",
    "            p_root = i\n",
    "            break\n",
    "            \n",
    "            \n",
    "    return p_root       "
   ]
  },
  {
   "cell_type": "code",
   "execution_count": 19,
   "id": "d51d811f",
   "metadata": {},
   "outputs": [
    {
     "name": "stdout",
     "output_type": "stream",
     "text": [
      "Enter prime number16\n",
      "Re-enter number\n",
      "Enter prime number13\n",
      "P entered as 13\n"
     ]
    }
   ],
   "source": [
    "while(1):\n",
    "    P = int(input(\"Enter prime number\"))\n",
    "    \n",
    "    if(check_prime(P)==False):\n",
    "        print(\"P entered as {}\".format(P))\n",
    "        break\n",
    "    else:\n",
    "        print(\"Re-enter number\")"
   ]
  },
  {
   "cell_type": "code",
   "execution_count": 20,
   "id": "a87fba3a",
   "metadata": {},
   "outputs": [],
   "source": [
    "G = primitive_root(P)"
   ]
  },
  {
   "cell_type": "code",
   "execution_count": 21,
   "id": "88aadd54",
   "metadata": {},
   "outputs": [
    {
     "name": "stdout",
     "output_type": "stream",
     "text": [
      "2\n"
     ]
    }
   ],
   "source": [
    "print(G)"
   ]
  },
  {
   "cell_type": "code",
   "execution_count": 22,
   "id": "5531fab3",
   "metadata": {},
   "outputs": [
    {
     "name": "stdout",
     "output_type": "stream",
     "text": [
      "Enter A's secret number3\n",
      "Enter B's secret number5\n"
     ]
    }
   ],
   "source": [
    "a = int(input(\"Enter A's secret number\"))\n",
    "b = int(input(\"Enter B's secret number\"))"
   ]
  },
  {
   "cell_type": "code",
   "execution_count": 26,
   "id": "1c3e2a96",
   "metadata": {},
   "outputs": [
    {
     "name": "stdout",
     "output_type": "stream",
     "text": [
      "8\n",
      "6\n"
     ]
    }
   ],
   "source": [
    "p_A = pow(G,a,P)\n",
    "print(p_A)\n",
    "p_B = pow(G,b,P)\n",
    "print(p_B)"
   ]
  },
  {
   "cell_type": "code",
   "execution_count": 27,
   "id": "1c1f7933",
   "metadata": {},
   "outputs": [],
   "source": [
    "sec_A = pow(p_B,a,P)\n",
    "sec_B = pow(p_A,b,P)"
   ]
  },
  {
   "cell_type": "code",
   "execution_count": 28,
   "id": "5197852b",
   "metadata": {},
   "outputs": [
    {
     "name": "stdout",
     "output_type": "stream",
     "text": [
      "Secret key of A - 8 and Secret key of B - 8\n"
     ]
    }
   ],
   "source": [
    "print(\"Secret key of A - {} and Secret key of B - {}\".format(sec_A,sec_B))"
   ]
  },
  {
   "cell_type": "code",
   "execution_count": null,
   "id": "c8766262",
   "metadata": {},
   "outputs": [],
   "source": []
  }
 ],
 "metadata": {
  "kernelspec": {
   "display_name": "Python [conda env:root] *",
   "language": "python",
   "name": "conda-root-py"
  },
  "language_info": {
   "codemirror_mode": {
    "name": "ipython",
    "version": 3
   },
   "file_extension": ".py",
   "mimetype": "text/x-python",
   "name": "python",
   "nbconvert_exporter": "python",
   "pygments_lexer": "ipython3",
   "version": "3.8.12"
  }
 },
 "nbformat": 4,
 "nbformat_minor": 5
}
